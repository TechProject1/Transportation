{
 "cells": [
  {
   "cell_type": "code",
   "execution_count": 1,
   "metadata": {},
   "outputs": [],
   "source": [
    "import mysql.connector\n",
    "import pandas as pd\n",
    "import requests\n",
    "import numpy as np\n",
    "from datetime import datetime\n",
    "from datetime import timezone\n",
    "import matplotlib.pyplot as plt\n",
    "from matplotlib import style\n",
    "style.use('ggplot')\n",
    "from google.cloud import bigquery\n",
    "\n"
   ]
  },
  {
   "cell_type": "code",
   "execution_count": 4,
   "metadata": {},
   "outputs": [
    {
     "name": "stdout",
     "output_type": "stream",
     "text": [
      "<mysql.connector.connection.MySQLConnection object at 0x000001C0F1ABBE10>\n"
     ]
    }
   ],
   "source": [
    "client = bigquery.Client()\n",
    "\n",
    "db = mysql.connector.connect(\n",
    "   host=\"localhost\",\n",
    "   user=\"root\",\n",
    "   passwd=\"root\",\n",
    "   database='divy'\n",
    ")\n",
    "print(db)"
   ]
  },
  {
   "cell_type": "code",
   "execution_count": 8,
   "metadata": {},
   "outputs": [],
   "source": [
    "sql=\"\"\"SELECT STR_TO_DATE(start_time, '%m/%d/%Y') as dt , count(trip_id) as ridecount\n",
    "FROM divy.divvy_trips_raw\n",
    "GROUP BY dt\"\"\"\n",
    "df = pd.read_sql(sql, con=db)"
   ]
  },
  {
   "cell_type": "code",
   "execution_count": 9,
   "metadata": {},
   "outputs": [
    {
     "data": {
      "text/html": [
       "<div>\n",
       "<style scoped>\n",
       "    .dataframe tbody tr th:only-of-type {\n",
       "        vertical-align: middle;\n",
       "    }\n",
       "\n",
       "    .dataframe tbody tr th {\n",
       "        vertical-align: top;\n",
       "    }\n",
       "\n",
       "    .dataframe thead th {\n",
       "        text-align: right;\n",
       "    }\n",
       "</style>\n",
       "<table border=\"1\" class=\"dataframe\">\n",
       "  <thead>\n",
       "    <tr style=\"text-align: right;\">\n",
       "      <th></th>\n",
       "      <th>dt</th>\n",
       "      <th>ridecount</th>\n",
       "    </tr>\n",
       "  </thead>\n",
       "  <tbody>\n",
       "    <tr>\n",
       "      <th>0</th>\n",
       "      <td>None</td>\n",
       "      <td>1</td>\n",
       "    </tr>\n",
       "    <tr>\n",
       "      <th>1</th>\n",
       "      <td>2017-01-01</td>\n",
       "      <td>1727</td>\n",
       "    </tr>\n",
       "    <tr>\n",
       "      <th>2</th>\n",
       "      <td>2017-01-02</td>\n",
       "      <td>1960</td>\n",
       "    </tr>\n",
       "    <tr>\n",
       "      <th>3</th>\n",
       "      <td>2017-01-03</td>\n",
       "      <td>4537</td>\n",
       "    </tr>\n",
       "    <tr>\n",
       "      <th>4</th>\n",
       "      <td>2017-01-04</td>\n",
       "      <td>3269</td>\n",
       "    </tr>\n",
       "  </tbody>\n",
       "</table>\n",
       "</div>"
      ],
      "text/plain": [
       "           dt  ridecount\n",
       "0        None          1\n",
       "1  2017-01-01       1727\n",
       "2  2017-01-02       1960\n",
       "3  2017-01-03       4537\n",
       "4  2017-01-04       3269"
      ]
     },
     "execution_count": 9,
     "metadata": {},
     "output_type": "execute_result"
    }
   ],
   "source": [
    "df.head()"
   ]
  },
  {
   "cell_type": "code",
   "execution_count": 12,
   "metadata": {},
   "outputs": [
    {
     "data": {
      "text/html": [
       "<div>\n",
       "<style scoped>\n",
       "    .dataframe tbody tr th:only-of-type {\n",
       "        vertical-align: middle;\n",
       "    }\n",
       "\n",
       "    .dataframe tbody tr th {\n",
       "        vertical-align: top;\n",
       "    }\n",
       "\n",
       "    .dataframe thead th {\n",
       "        text-align: right;\n",
       "    }\n",
       "</style>\n",
       "<table border=\"1\" class=\"dataframe\">\n",
       "  <thead>\n",
       "    <tr style=\"text-align: right;\">\n",
       "      <th></th>\n",
       "      <th>dt</th>\n",
       "      <th>ridecount</th>\n",
       "    </tr>\n",
       "  </thead>\n",
       "  <tbody>\n",
       "    <tr>\n",
       "      <th>0</th>\n",
       "      <td>NaT</td>\n",
       "      <td>1</td>\n",
       "    </tr>\n",
       "    <tr>\n",
       "      <th>1</th>\n",
       "      <td>2017-01-01 00:00:00+00:00</td>\n",
       "      <td>1727</td>\n",
       "    </tr>\n",
       "    <tr>\n",
       "      <th>2</th>\n",
       "      <td>2017-01-02 00:00:00+00:00</td>\n",
       "      <td>1960</td>\n",
       "    </tr>\n",
       "    <tr>\n",
       "      <th>3</th>\n",
       "      <td>2017-01-03 00:00:00+00:00</td>\n",
       "      <td>4537</td>\n",
       "    </tr>\n",
       "    <tr>\n",
       "      <th>4</th>\n",
       "      <td>2017-01-04 00:00:00+00:00</td>\n",
       "      <td>3269</td>\n",
       "    </tr>\n",
       "  </tbody>\n",
       "</table>\n",
       "</div>"
      ],
      "text/plain": [
       "                         dt  ridecount\n",
       "0                       NaT          1\n",
       "1 2017-01-01 00:00:00+00:00       1727\n",
       "2 2017-01-02 00:00:00+00:00       1960\n",
       "3 2017-01-03 00:00:00+00:00       4537\n",
       "4 2017-01-04 00:00:00+00:00       3269"
      ]
     },
     "execution_count": 12,
     "metadata": {},
     "output_type": "execute_result"
    }
   ],
   "source": [
    "df['dt']=pd.to_datetime(df['dt'])\n",
    "df['dt']=pd.DatetimeIndex(pd.to_datetime(df['dt'],unit='ms')).tz_localize('UTC')\n",
    "df.head()\n"
   ]
  },
  {
   "cell_type": "code",
   "execution_count": 7,
   "metadata": {},
   "outputs": [
    {
     "data": {
      "text/html": [
       "<div>\n",
       "<style scoped>\n",
       "    .dataframe tbody tr th:only-of-type {\n",
       "        vertical-align: middle;\n",
       "    }\n",
       "\n",
       "    .dataframe tbody tr th {\n",
       "        vertical-align: top;\n",
       "    }\n",
       "\n",
       "    .dataframe thead th {\n",
       "        text-align: right;\n",
       "    }\n",
       "</style>\n",
       "<table border=\"1\" class=\"dataframe\">\n",
       "  <thead>\n",
       "    <tr style=\"text-align: right;\">\n",
       "      <th></th>\n",
       "      <th>date</th>\n",
       "      <th>year</th>\n",
       "      <th>rank</th>\n",
       "      <th>temperature</th>\n",
       "    </tr>\n",
       "  </thead>\n",
       "  <tbody>\n",
       "    <tr>\n",
       "      <th>0</th>\n",
       "      <td>2017-12-31 00:00:00+00:00</td>\n",
       "      <td>2017</td>\n",
       "      <td>0.000000</td>\n",
       "      <td>0.4</td>\n",
       "    </tr>\n",
       "    <tr>\n",
       "      <th>1</th>\n",
       "      <td>2017-12-27 00:00:00+00:00</td>\n",
       "      <td>2017</td>\n",
       "      <td>0.002747</td>\n",
       "      <td>1.1</td>\n",
       "    </tr>\n",
       "    <tr>\n",
       "      <th>2</th>\n",
       "      <td>2017-12-26 00:00:00+00:00</td>\n",
       "      <td>2017</td>\n",
       "      <td>0.005495</td>\n",
       "      <td>2.5</td>\n",
       "    </tr>\n",
       "    <tr>\n",
       "      <th>3</th>\n",
       "      <td>2017-01-06 00:00:00+00:00</td>\n",
       "      <td>2017</td>\n",
       "      <td>0.008242</td>\n",
       "      <td>4.4</td>\n",
       "    </tr>\n",
       "    <tr>\n",
       "      <th>4</th>\n",
       "      <td>2017-12-28 00:00:00+00:00</td>\n",
       "      <td>2017</td>\n",
       "      <td>0.010989</td>\n",
       "      <td>6.2</td>\n",
       "    </tr>\n",
       "  </tbody>\n",
       "</table>\n",
       "</div>"
      ],
      "text/plain": [
       "                       date  year      rank  temperature\n",
       "0 2017-12-31 00:00:00+00:00  2017  0.000000          0.4\n",
       "1 2017-12-27 00:00:00+00:00  2017  0.002747          1.1\n",
       "2 2017-12-26 00:00:00+00:00  2017  0.005495          2.5\n",
       "3 2017-01-06 00:00:00+00:00  2017  0.008242          4.4\n",
       "4 2017-12-28 00:00:00+00:00  2017  0.010989          6.2"
      ]
     },
     "execution_count": 7,
     "metadata": {},
     "output_type": "execute_result"
    }
   ],
   "source": [
    "sql=\"\"\"SELECT\n",
    "    TIMESTAMP_TRUNC(TIMESTAMP(CONCAT(year, '-', mo, '-', da)),\n",
    "      DAY) AS date,\n",
    "    year,\n",
    "    PERCENT_RANK() OVER (PARTITION BY year ORDER BY AVG(temp)) AS rank,\n",
    "    AVG(temp) AS temperature\n",
    "  FROM\n",
    "    `bigquery-public-data.noaa_gsod.gsod*` AS w\n",
    "  JOIN\n",
    "    `bigquery-public-data.noaa_gsod.stations` AS s\n",
    "  ON\n",
    "    w.stn = s.usaf\n",
    "    AND s.name = \"CHICAGO O'HARE INTERNATIONAL\"\n",
    "  WHERE\n",
    "    w._TABLE_SUFFIX ='2017'\n",
    "  GROUP BY\n",
    "    date,\n",
    "    year\"\"\"\n",
    "\n",
    "weather_df = client.query(sql).to_dataframe()\n",
    "weather_df.head()"
   ]
  },
  {
   "cell_type": "code",
   "execution_count": 13,
   "metadata": {},
   "outputs": [
    {
     "data": {
      "text/html": [
       "<div>\n",
       "<style scoped>\n",
       "    .dataframe tbody tr th:only-of-type {\n",
       "        vertical-align: middle;\n",
       "    }\n",
       "\n",
       "    .dataframe tbody tr th {\n",
       "        vertical-align: top;\n",
       "    }\n",
       "\n",
       "    .dataframe thead th {\n",
       "        text-align: right;\n",
       "    }\n",
       "</style>\n",
       "<table border=\"1\" class=\"dataframe\">\n",
       "  <thead>\n",
       "    <tr style=\"text-align: right;\">\n",
       "      <th></th>\n",
       "      <th>dt</th>\n",
       "      <th>ridecount</th>\n",
       "      <th>date</th>\n",
       "      <th>year</th>\n",
       "      <th>rank</th>\n",
       "      <th>temperature</th>\n",
       "    </tr>\n",
       "  </thead>\n",
       "  <tbody>\n",
       "    <tr>\n",
       "      <th>0</th>\n",
       "      <td>2017-01-01 00:00:00+00:00</td>\n",
       "      <td>1727</td>\n",
       "      <td>2017-01-01 00:00:00+00:00</td>\n",
       "      <td>2017</td>\n",
       "      <td>0.101648</td>\n",
       "      <td>27.4</td>\n",
       "    </tr>\n",
       "    <tr>\n",
       "      <th>1</th>\n",
       "      <td>2017-01-02 00:00:00+00:00</td>\n",
       "      <td>1960</td>\n",
       "      <td>2017-01-02 00:00:00+00:00</td>\n",
       "      <td>2017</td>\n",
       "      <td>0.173077</td>\n",
       "      <td>34.0</td>\n",
       "    </tr>\n",
       "    <tr>\n",
       "      <th>2</th>\n",
       "      <td>2017-01-03 00:00:00+00:00</td>\n",
       "      <td>4537</td>\n",
       "      <td>2017-01-03 00:00:00+00:00</td>\n",
       "      <td>2017</td>\n",
       "      <td>0.241758</td>\n",
       "      <td>38.2</td>\n",
       "    </tr>\n",
       "    <tr>\n",
       "      <th>3</th>\n",
       "      <td>2017-01-04 00:00:00+00:00</td>\n",
       "      <td>3269</td>\n",
       "      <td>2017-01-04 00:00:00+00:00</td>\n",
       "      <td>2017</td>\n",
       "      <td>0.030220</td>\n",
       "      <td>18.2</td>\n",
       "    </tr>\n",
       "    <tr>\n",
       "      <th>4</th>\n",
       "      <td>2017-01-05 00:00:00+00:00</td>\n",
       "      <td>2917</td>\n",
       "      <td>2017-01-05 00:00:00+00:00</td>\n",
       "      <td>2017</td>\n",
       "      <td>0.019231</td>\n",
       "      <td>9.3</td>\n",
       "    </tr>\n",
       "  </tbody>\n",
       "</table>\n",
       "</div>"
      ],
      "text/plain": [
       "                         dt  ridecount                      date  year  \\\n",
       "0 2017-01-01 00:00:00+00:00       1727 2017-01-01 00:00:00+00:00  2017   \n",
       "1 2017-01-02 00:00:00+00:00       1960 2017-01-02 00:00:00+00:00  2017   \n",
       "2 2017-01-03 00:00:00+00:00       4537 2017-01-03 00:00:00+00:00  2017   \n",
       "3 2017-01-04 00:00:00+00:00       3269 2017-01-04 00:00:00+00:00  2017   \n",
       "4 2017-01-05 00:00:00+00:00       2917 2017-01-05 00:00:00+00:00  2017   \n",
       "\n",
       "       rank  temperature  \n",
       "0  0.101648         27.4  \n",
       "1  0.173077         34.0  \n",
       "2  0.241758         38.2  \n",
       "3  0.030220         18.2  \n",
       "4  0.019231          9.3  "
      ]
     },
     "execution_count": 13,
     "metadata": {},
     "output_type": "execute_result"
    }
   ],
   "source": [
    "merged_data = pd.merge(df, weather_df, left_on='dt', right_on='date')\n",
    "merged_data.head()"
   ]
  },
  {
   "cell_type": "code",
   "execution_count": 14,
   "metadata": {},
   "outputs": [
    {
     "data": {
      "text/plain": [
       "Text(0.5,0,'Temperature')"
      ]
     },
     "execution_count": 14,
     "metadata": {},
     "output_type": "execute_result"
    },
    {
     "data": {
      "image/png": "[encoded data removed]",
      "text/plain": [
       "<Figure size 1152x648 with 1 Axes>"
      ]
     },
     "metadata": {},
     "output_type": "display_data"
    }
   ],
   "source": [
    "fig = plt.figure(figsize=(16,9))\n",
    "plt.scatter(merged_data['temperature'],merged_data['ridecount'])\n",
    "plt.title('Daily Divy Rides vs Temperature (2017)')\n",
    "plt.ylabel(\"Daily Divy Rides\")\n",
    "plt.xlabel(\"Temperature\")"
   ]
  },
  {
   "cell_type": "code",
   "execution_count": 15,
   "metadata": {},
   "outputs": [
    {
     "data": {
      "text/plain": [
       "<Figure size 432x288 with 0 Axes>"
      ]
     },
     "metadata": {},
     "output_type": "display_data"
    }
   ],
   "source": [
    "plt.savefig(\"divy.png\")"
   ]
  },
  {
   "cell_type": "code",
   "execution_count": null,
   "metadata": {},
   "outputs": [],
   "source": []
  }
 ],
 "metadata": {
  "kernelspec": {
   "display_name": "Python 3",
   "language": "python",
   "name": "python3"
  },
  "language_info": {
   "codemirror_mode": {
    "name": "ipython",
    "version": 3
   },
   "file_extension": ".py",
   "mimetype": "text/x-python",
   "name": "python",
   "nbconvert_exporter": "python",
   "pygments_lexer": "ipython3",
   "version": "3.6.5"
  }
 },
 "nbformat": 4,
 "nbformat_minor": 2
}
